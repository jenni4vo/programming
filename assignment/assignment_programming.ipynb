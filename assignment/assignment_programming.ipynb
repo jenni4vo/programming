{
 "cells": [
  {
   "cell_type": "markdown",
   "id": "f7c24d5d-9973-45a1-83be-8bca8b03e576",
   "metadata": {},
   "source": [
    "# Assignment: Programming Review\n",
    "## Do Q1 and one other question."
   ]
  },
  {
   "cell_type": "markdown",
   "id": "4a3fb7b5-0345-447d-840a-59f667fe9c0c",
   "metadata": {},
   "source": [
    "**Q1.** First, think about your priorities in life. What kind of salary do you want to make after graduation? Do you mind getting more schooling? What kind of work-life balance are you looking for? Where do you want to work, geographically? You don't have to write this down here, just think about it.\n",
    "\n",
    "1. Go to the Occupational Outlook Handbook at [https://www.bls.gov/ooh/](https://www.bls.gov/ooh/). Look up \"Data Scientist.\" Read about the job and start collecting data about it from the job profile (e.g. salary, education required, work setting)\n",
    "2. Find 7-10 other jobs that appeal to you, and collect the same data as you did for Data Scientist. Put it all in a spreadsheet.\n",
    "3. Do any of your findings surprise you?\n",
    "__I was surprised that all of the Computer Information and Technology jobs I looked at still had a positive job outlook, signifying that more jobs were expected to open in the next 10 years. This was the case for all jobs except for the Computer Programmers who had a -10% job outlook which I more or less expected. I was also surprised to see many of the jobs did not require prior experience in related jobs, signifying it could be an entry-level job.__ \n",
    "\n",
    "4. Rank the jobs you picked from best to worst, and briefly explain why you did so.\n",
    "__1 will be the best, and 9 the worst.__ \n",
    "    1. Software Developers, Quality Assurance Analysts, and Testers would be my first choice since it has the most number of jobs and this job group most aligns with my background in computer science and interests of working with clients as well as implementing technical solutions.\n",
    "    2. Data Scientists would be my next choice since I enjoy looking at data, analyzing trends, and really taking the time to understand the data. It also had the largest job outlook percentage out of the jobs (percent of growth in job quantity) I looked at which is encouraging to see as someone currently applying for jobs. \n",
    "    3. Computer Systems Analysts would be my next choice since it combines computer systems with problem-solving as an analyst and has the third-most amount of jobs out of the jobs I looked at. \n",
    "    4. Information Security Analysts would be ny next choice since I am slightly interested in cybersecurity but not really that much. Additionally, there are not as many number of total jobs, but the jobs are expected to grow a lot (33%). \n",
    "    5. Database Administrators and Architects would be my next choice since it doesn't seem like they communicate a lot with others (since communication is not listed as a skill to have) and I thrive off of interaction.\n",
    "    6. Web Developers and Digital Designers would be next since they get paid slightly less than other technical roles and I wouldn't be too interested in designing websites as my only task. I like being creative but not all the time.\n",
    "    7. Computer Programmers would be my third to last choice since it is the only job with a declining job outlook percentage (percent of growth in job quantity)\n",
    "    8. Computer Support Specialists would be my second to last choice since the median income is significantly lower than the other jobs I looked at and it said that some specialists would need to be on call over the weekend or nights\n",
    "    9. Computer and Information Research Scientists would be my last choice since the largest employer is the federal government and usually a Master's degree is needed. Personally, I would rather work for a private company and I don't plan to pursue a Master's degree unless my job is paying for it. \n",
    "    \n",
    "5. Please submit your spreadsheet with the assignment --- you can \"de-identify\" it and remove anything that you find personally identifying or you don't want to share, of course. We'll play with these data later.\n"
   ]
  },
  {
   "cell_type": "markdown",
   "id": "7e9d65ad-3740-43d3-a944-b3653fbeb80c",
   "metadata": {},
   "source": [
    "Depends on student opinions."
   ]
  },
  {
   "cell_type": "markdown",
   "id": "7cfa75b2-aaef-4368-a043-93437887879c",
   "metadata": {},
   "source": [
    "**Q2.** Being able to make basic plots to visualize sets of points is really helpful, particularly with data analysis. The pyplot plots are built up slowly by defining elements of the plot, and then using `plt.show()` to create the final plot. This question gives you some practice doing that **iterative** building process.\n",
    "\n",
    "1. Import the `numpy` module as `np` and the `matplotlib.pyplot` package as `plt`.\n",
    "2. Use `np.linspace` to create a grid of 50 points ranging from 0 to 1.\n",
    "3. Create a numpy array $y$ containing the values for the natural logarithm function using the `np.log(x)` function. Create a numpy array $z$ containing the values for the exponential function using the `np.exp(x)` function.\n",
    "4. Use the `plt.scatter(x,y)` method for the $y$ and $z$ vectors to create two scatter plots of the points you've created.\n",
    "5. Use the `plt.show()` method to create the plot.\n",
    "\n",
    "That plot has some problems.\n",
    "\n",
    "6. Before the `plt.show()` call, add labels to the $x$ and $y$ axes using `plt.xlabel(label)` and `plt.ylabel(label)`. Add a title to the graph using `plt.title(title)`, like \"Natural Log and Exponential Functions\".\n",
    "7. That looks a lot better, but we need a legend. When you screate the scatter plots, add the argument `label='Natural Log'` or `label='Exponential'` to the `.scatter` method call. Before the `plt.show()` call, add a `plt.legend(loc = 'lower right')` method call, which creates a legend in the lower right.\n",
    "\n",
    "Now do it again, with slightly less direction:\n",
    "\n",
    "8. Create a grid of 100 equally spaced points ranging from -6.5 to 6.5.\n",
    "9. Use the sine and cosine functions in Numpy to compute the values of those functions for each point on your grid. (You'll have to find out what those functions are.)\n",
    "10. Plot the values of the two functions for the values on the grid on the same plot.\n",
    "11. The scatter plot looks really noisy. Instead of `plt.scatter(x,y)` to make a scatter plot, use `plt.plot(x,y)` to make a line graph.\n",
    "12. Make the plot again, with labels for the axes, a title, and a legend in the lower left instead of the lower right.\n"
   ]
  },
  {
   "cell_type": "code",
   "execution_count": 1,
   "id": "9c05ee86-06dc-4ae9-896d-0cb70c4d6c3d",
   "metadata": {},
   "outputs": [],
   "source": [
    "import numpy as np\n",
    "import matplotlib.pyplot as plt\n",
    "\n",
    "x = np.linspace(0,1,50)\n",
    "y = np.log(x)\n",
    "z = np.exp(x)\n",
    "plt.scatter(x,y,label='Natural Log')\n",
    "plt.scatter(x,z,label='Exponential')\n",
    "plt.xlabel(\"X axis\")\n",
    "plt.ylabel(\"Y axis\")\n",
    "plt.title(\"Natural Log and Exponential Functions\")\n",
    "plt.legend(loc = 'lower right')\n",
    "plt.show()"
   ]
  },
  {
   "cell_type": "code",
   "execution_count": null,
   "id": "d8ec66fe",
   "metadata": {},
   "outputs": [],
   "source": [
    "x = np.linspace(-6.5, 6.5, 100)\n",
    "y = np.sin(x)\n",
    "z = np.cos(x)\n",
    "plt.plot(x,y,label='Sin')\n",
    "plt.plot(x,z,label='Cosine')\n",
    "plt.xlabel(\"X axis\")\n",
    "plt.ylabel(\"Y axis\")\n",
    "plt.title(\"Sine and Cosine Functions\")\n",
    "plt.legend(loc = 'lower left')\n",
    "plt.show()"
   ]
  }
 ],
 "metadata": {
  "kernelspec": {
   "display_name": "Python 3 (ipykernel)",
   "language": "python",
   "name": "python3"
  },
  "language_info": {
   "codemirror_mode": {
    "name": "ipython",
    "version": 3
   },
   "file_extension": ".py",
   "mimetype": "text/x-python",
   "name": "python",
   "nbconvert_exporter": "python",
   "pygments_lexer": "ipython3",
   "version": "3.10.4"
  }
 },
 "nbformat": 4,
 "nbformat_minor": 5
}
